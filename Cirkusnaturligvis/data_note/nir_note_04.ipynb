{
 "cells": [
  {
   "cell_type": "markdown",
   "metadata": {},
   "source": [
    "# NIR Notebook Test\n",
    "01.Okt 2023\n",
    "\n",
    "### Big steps\n",
    "\n",
    "1. Check NIR Arduino may need to reinstall software - see Arduino file for that\n",
    "\n",
    "2. Set up a virtual Python environment for Visual Studio Code\n",
    "\n",
    "   ```shell\n",
    "   cd path/to/your/project\n",
    "   \n",
    "   python3 -m venv venv\n",
    "   \n",
    "   source venv/bin/activate\n",
    "   ```\n",
    "\n",
    "3.  Install the files below\n",
    "\n",
    "### Packages\n",
    "\n",
    "Built-in packages are: time, os, csv\n",
    "\n",
    "1. pyserial\n",
    "2. schedule\n",
    "3. matplotlib\n",
    "\n",
    "### Run the Notebook\n",
    "\n",
    "1. If the first time, then you can run all\n",
    "2. If you want to collect different samples you can start with 2. Serial communication with Arduino\n",
    "3. Proceed cell by cell to collect data"
   ]
  },
  {
   "cell_type": "markdown",
   "metadata": {},
   "source": [
    "## 1. Serial Communications\n",
    "This code block below reads what your serial port the Arduino is at and prints that out. You may need to update the cell below with that information. Since on windows serial ports change frequently."
   ]
  },
  {
   "cell_type": "code",
   "execution_count": null,
   "metadata": {},
   "outputs": [],
   "source": [
    "import serial\n",
    "import serial.tools.list_ports\n",
    "def list_serial_ports():\n",
    "    ports = serial.tools.list_ports.comports()\n",
    "    for port in ports:\n",
    "        print(port)\n",
    "if __name__ == '__main__':\n",
    "    list_serial_ports()"
   ]
  },
  {
   "cell_type": "markdown",
   "metadata": {},
   "source": [
    "## 2. Serial communication with Arduino\n",
    "1. Check the above print out\n",
    "2. Find the Arduino board \"SparkFun SAMD51 MicroMod\" serial port \"COM8\" or \"/dev/cu.usbmodem12301\" something like these and put into the code."
   ]
  },
  {
   "cell_type": "code",
   "execution_count": null,
   "metadata": {},
   "outputs": [],
   "source": [
    "import time\n",
    "import schedule\n",
    "carry_values = []\n",
    "def main_func():\n",
    "    global carry_values\n",
    "    try:\n",
    "        # change your serial port\n",
    "        #arduino = serial.Serial('COM8', 115200, timeout=1)#windows flavor\n",
    "        arduino = serial.Serial('/dev/cu.usbmodem12301', 115200, timeout=1)#linux and MacOS flavor\n",
    "        print('Established serial connection to Arduino')\n",
    "    except Exception as e:\n",
    "        print(f'Failed to connect: {e}')\n",
    "        return\n",
    "    arduino_data = arduino.readline()\n",
    "    if not arduino_data:\n",
    "        print('No data received from Arduino. Exiting...')\n",
    "        arduino.close()\n",
    "        return 'exit'\n",
    "    decoded_values = str(arduino_data[0:len(arduino_data)].decode(\"utf-8\"))\n",
    "    list_values = decoded_values.split(',')\n",
    "    list_values= list_values[:-1]\n",
    "    carry_values = []\n",
    "    for item in list_values:\n",
    "        carry_values.append(float(item))\n",
    "    print(f'Collected readings from Arduino: {carry_values}')\n",
    "    arduino_data = 0\n",
    "    arduino.close()\n",
    "    print('Connection closed')\n",
    "    print('<----------------------------->')\n",
    "print('Program started')\n",
    "schedule.every(5).seconds.do(main_func)\n",
    "start_time = time.time()\n",
    "while True:\n",
    "    result = schedule.run_pending()\n",
    "    if result == 'exit':\n",
    "        break\n",
    "    time.sleep(1)\n",
    "    elapsed_time = time.time() - start_time\n",
    "    if elapsed_time > 15:\n",
    "        print('graph')\n",
    "        print(f'Graph: {carry_values}')\n",
    "        break"
   ]
  },
  {
   "cell_type": "markdown",
   "metadata": {},
   "source": [
    "## 3. Initial Plot\n",
    "Plots the current reading"
   ]
  },
  {
   "cell_type": "code",
   "execution_count": null,
   "metadata": {},
   "outputs": [],
   "source": [
    "import matplotlib.pyplot as plt\n",
    "#carry_values = [1021.96, 485.59, 1090.37, 413.11, 787.75, 1186.35, 437.41, 560.83, 2201.98, 416.03, 671.91, 134.69, 202.98, 146.25, 479.8, 950.51, 335.93]\n",
    "x_values = [410, 435, 460, 485, 510, 535, 560, 585, 610, 645, 680, 705, 730, 760, 810, 860, 900]\n",
    "plt.figure(figsize=(10,5))\n",
    "plt.plot(x_values, carry_values, marker='o')\n",
    "plt.title('Response over Wavelength')\n",
    "plt.xlabel('Wavelength (nm)')\n",
    "plt.ylabel('Response')\n",
    "plt.grid(True)\n",
    "plt.show()"
   ]
  },
  {
   "cell_type": "markdown",
   "metadata": {},
   "source": [
    "## 4. Saves out data to CVS text file\n",
    "1. The file is named \"samples_01.csv\" you can change it if you want\n",
    "2. You will be asked to enter the name of the material in pop-up window on the top of the notebook, enter the name make sure it is one word e.g. \"yellow_cloth\"\n",
    "3. The info will be saved into the text file."
   ]
  },
  {
   "cell_type": "code",
   "execution_count": null,
   "metadata": {},
   "outputs": [],
   "source": [
    "import csv\n",
    "import os\n",
    "filename = 'samples_01.csv'\n",
    "item = input('Please add a new item at the end of the list (a text string): ')\n",
    "carry_values.append(item)\n",
    "file_exists = os.path.isfile(filename)\n",
    "with open(filename, mode='a', newline='') as file:\n",
    "    writer = csv.writer(file)\n",
    "    if not file_exists:\n",
    "        writer.writerow(['Response', 'Additional Item'])\n",
    "    writer.writerow(carry_values + [item])\n",
    "print(f'Data has been saved to {filename}')"
   ]
  },
  {
   "cell_type": "markdown",
   "metadata": {},
   "source": [
    "## 5. Plot of all your saved samples"
   ]
  },
  {
   "cell_type": "code",
   "execution_count": null,
   "metadata": {},
   "outputs": [],
   "source": [
    "import csv\n",
    "import os\n",
    "import matplotlib.pyplot as plt\n",
    "filename = 'samples_01.csv'\n",
    "x_values = [410, 435, 460, 485, 510, 535, 560, 585, 610, 645, 680, 705, 730, 760, 810, 860, 900]\n",
    "plt.figure(figsize=(10,5))\n",
    "with open(filename, mode='r') as file:\n",
    "    reader = csv.reader(file)\n",
    "    for row in reader:\n",
    "        try:\n",
    "            carry_values = [float(value) for value in row[:-2]]  # Exclude the last two items\n",
    "        except ValueError as e:\n",
    "            print(f'Error converting value to float: {e}')\n",
    "            continue  # Skip to the next row if there is an error converting value\n",
    "        if len(x_values) != len(carry_values):\n",
    "            print(f'Skipping row due to length mismatch: x_values length: {len(x_values)}, carry_values length: {len(carry_values)}')\n",
    "            continue  # Skip to the next row if there is a length mismatch\n",
    "        legend_item = row[-2]  # Use the second last item as legend\n",
    "        plt.plot(x_values, carry_values, marker='o', label=legend_item)\n",
    "plt.title('Multiple Response over Wavelength')\n",
    "plt.xlabel('Wavelength (nm)')\n",
    "plt.ylabel('Response')\n",
    "plt.legend(loc='upper right')\n",
    "plt.grid(True)\n",
    "plt.show()"
   ]
  }
 ],
 "metadata": {
  "kernelspec": {
   "display_name": "gpx",
   "language": "python",
   "name": "python3"
  },
  "language_info": {
   "codemirror_mode": {
    "name": "ipython",
    "version": 3
   },
   "file_extension": ".py",
   "mimetype": "text/x-python",
   "name": "python",
   "nbconvert_exporter": "python",
   "pygments_lexer": "ipython3",
   "version": "3.10.9"
  },
  "orig_nbformat": 4
 },
 "nbformat": 4,
 "nbformat_minor": 2
}
