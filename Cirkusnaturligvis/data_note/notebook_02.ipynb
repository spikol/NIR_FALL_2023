{
 "cells": [
  {
   "cell_type": "markdown",
   "metadata": {},
   "source": [
    "### Import Packages and set globas"
   ]
  },
  {
   "cell_type": "code",
   "execution_count": 1,
   "metadata": {},
   "outputs": [],
   "source": [
    "import serial\n",
    "import time\n",
    "import schedule\n",
    "#carry_values=[1564.26,453.09,979.11,274.93,495.3,803.31,1564.26,453.09,979.11,274.93,495.3,803.31,1564.26,453.09,979.11,274.93,495.3,803.31]\n",
    "carry_values=[]"
   ]
  },
  {
   "cell_type": "markdown",
   "metadata": {},
   "source": [
    "### Port ID"
   ]
  },
  {
   "cell_type": "code",
   "execution_count": 2,
   "metadata": {},
   "outputs": [
    {
     "name": "stdout",
     "output_type": "stream",
     "text": [
      "COM3 - Standard Serial over Bluetooth link (COM3)\n",
      "COM4 - Standard Serial over Bluetooth link (COM4)\n",
      "COM7 - USB Serial Device (COM7)\n"
     ]
    }
   ],
   "source": [
    "import serial.tools.list_ports\n",
    "\n",
    "def list_serial_ports():\n",
    "    ports = serial.tools.list_ports.comports()\n",
    "    for port in ports:\n",
    "        print(port)\n",
    "\n",
    "if __name__ == '__main__':\n",
    "    list_serial_ports()\n"
   ]
  },
  {
   "cell_type": "markdown",
   "metadata": {},
   "source": [
    "### Read in the NIR"
   ]
  },
  {
   "cell_type": "code",
   "execution_count": 3,
   "metadata": {},
   "outputs": [
    {
     "name": "stdout",
     "output_type": "stream",
     "text": [
      "Program started\n",
      "Established serial connection to Arduino\n",
      "b'1806.10,412.90,1136.03,202.36,530.02,901.47,125.74,136.72,623.74,86.66,202.94,28.31,73.67,54.84,127.08,170.84,76.82,33.25\\r\\n'\n",
      "Collected readings from Arduino: [1806.1, 412.9, 1136.03, 202.36, 530.02, 901.47, 125.74, 136.72, 623.74, 86.66, 202.94, 28.31, 73.67, 54.84, 127.08, 170.84, 76.82]\n",
      "Connection closed\n",
      "<----------------------------->\n",
      "Established serial connection to Arduino\n",
      "b'1870.13,429.37,1188.99,206.56,549.68,917.75,125.74,136.72,612.30,86.66,192.42,27.91,73.67,54.01,125.35,166.25,79.42,34.17\\r\\n'\n",
      "Collected readings from Arduino: [1870.13, 429.37, 1188.99, 206.56, 549.68, 917.75, 125.74, 136.72, 612.3, 86.66, 192.42, 27.91, 73.67, 54.01, 125.35, 166.25, 79.42]\n",
      "Connection closed\n",
      "<----------------------------->\n",
      "graph\n",
      "Cgraph: []\n"
     ]
    }
   ],
   "source": [
    "#Python code for connecting Arduino to Python\n",
    "#That's Engineering\n",
    "#29/04/2020\n",
    "# -----------------------------------main\n",
    "\n",
    "\n",
    "def main_func():\n",
    "    global carry_values\n",
    "    arduino = serial.Serial('COM7', 115200)\n",
    "    print('Established serial connection to Arduino')\n",
    "    arduino_data = arduino.readline()\n",
    "    print(arduino_data)\n",
    "\n",
    "    decoded_values = str(arduino_data[0:len(arduino_data)].decode(\"utf-8\"))\n",
    "    list_values = decoded_values.split(',')\n",
    "    #list_values= list_values[:-1]\n",
    "    list_values= list_values[:-1]\n",
    "    list_in_floats=[]\n",
    "    \n",
    "\n",
    "    for item in list_values:\n",
    "        list_in_floats.append(float(item))\n",
    "        carry_values=list_in_floats\n",
    "\n",
    "    \n",
    "    print(f'Collected readings from Arduino: {carry_values}')\n",
    "    \n",
    "\n",
    "    arduino_data = 0\n",
    "    list_in_floats.clear()\n",
    "    list_values.clear()\n",
    "    arduino.close()\n",
    "    print('Connection closed')\n",
    "    print('<----------------------------->')\n",
    "\n",
    "# ----------------------------------------Main Code------------------------------------\n",
    "# Declare variables to be used\n",
    "list_values = []\n",
    "list_in_floats = []\n",
    "\n",
    "start_time = time.time()  # Get the current time\n",
    "\n",
    "print('Program started')\n",
    "\n",
    "# Setting up the Arduino\n",
    "schedule.every(5).seconds.do(main_func)\n",
    "start_time = time.time()  # Get the current time\n",
    "\n",
    "while True:\n",
    "    schedule.run_pending()\n",
    "    time.sleep(1)\n",
    "    elapsed_time = time.time() - start_time\n",
    "    if elapsed_time > 15:  # If more than 1 minute (60 seconds) has passed\n",
    "        print(\"graph\")\n",
    "        print(f'Cgraph: {carry_values}')\n",
    "        break\n",
    "\n"
   ]
  },
  {
   "cell_type": "markdown",
   "metadata": {},
   "source": [
    "###  Graph the results"
   ]
  },
  {
   "cell_type": "code",
   "execution_count": 4,
   "metadata": {},
   "outputs": [
    {
     "name": "stdout",
     "output_type": "stream",
     "text": [
      "[]\n",
      "[]\n"
     ]
    },
    {
     "data": {
      "text/plain": [
       "<matplotlib.legend.Legend at 0x1c26d412700>"
      ]
     },
     "execution_count": 4,
     "metadata": {},
     "output_type": "execute_result"
    },
    {
     "data": {
      "image/png": "[encoded data removed]",
      "text/plain": [
       "<Figure size 640x480 with 1 Axes>"
      ]
     },
     "metadata": {},
     "output_type": "display_data"
    }
   ],
   "source": [
    "import numpy   as np\n",
    "import matplotlib.pyplot as plt  \n",
    "from drawnow import *  \n",
    "from scipy.interpolate import interp1d\n",
    "print(carry_values)\n",
    "#spectreReadings= [1564.26,453.09,979.11,274.93,495.3,803.31,1564.26,453.09,979.11,274.93,495.3,803.31,1564.26,453.09,979.11,274.93,495.3,803.31]\n",
    "spectreReadings=carry_values\n",
    "print(spectreReadings)\n",
    "\n",
    "#fig.canvas.mpl_connect('close_event', handle_close) # figured out finally how to close the \"groundhog\" window\n",
    "#plt.ylim(0,defaultYLimit)                            \n",
    "plt.title('Spectral Response')           \n",
    "plt.grid(True)                              \n",
    "plt.ylabel('Response ')                          \n",
    "plt.plot(spectreReadings, 'ro-', label='Spectral readings')       \n",
    "#plt.plot(x, spectreReadings, 'o', xnew, f(xnew), '-')       \n",
    "plt.legend(loc='upper left')           \n",
    "\t "
   ]
  },
  {
   "cell_type": "markdown",
   "metadata": {},
   "source": []
  }
 ],
 "metadata": {
  "kernelspec": {
   "display_name": "Python 3 (ipykernel)",
   "language": "python",
   "name": "python3"
  },
  "language_info": {
   "codemirror_mode": {
    "name": "ipython",
    "version": 3
   },
   "file_extension": ".py",
   "mimetype": "text/x-python",
   "name": "python",
   "nbconvert_exporter": "python",
   "pygments_lexer": "ipython3",
   "version": "3.9.13"
  },
  "vscode": {
   "interpreter": {
    "hash": "a665b5d41d17b532ea9890333293a1b812fa0b73c9c25c950b3cedf1bebd0438"
   }
  }
 },
 "nbformat": 4,
 "nbformat_minor": 4
}
