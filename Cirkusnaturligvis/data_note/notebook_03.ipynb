{
 "cells": [
  {
   "cell_type": "markdown",
   "metadata": {},
   "source": []
  },
  {
   "cell_type": "code",
   "execution_count": null,
   "metadata": {},
   "outputs": [],
   "source": [
    "import serial\n",
    "import time\n",
    "import schedule\n",
    "import ipywidgets as widgets\n",
    "from IPython.display import display\n",
    "carry_values = []\n",
    "import serial.tools.list_ports\n",
    "def list_serial_ports():\n",
    "    ports = serial.tools.list_ports.comports()\n",
    "    port_list = []\n",
    "    for port in ports:\n",
    "        port_list.append(str(port))\n",
    "    return port_list\n",
    "dropdown = widgets.Dropdown(options = list_serial_ports())\n",
    "display(dropdown)\n",
    "def main_func():\n",
    "    global carry_values\n",
    "    try:\n",
    "        arduino = serial.Serial(dropdown.value.split(' - ')[0], 115200, timeout=1)\n",
    "        print('Established serial connection to Arduino')\n",
    "    except Exception as e:\n",
    "        print(f'Failed to connect: {e}')\n",
    "        return\n",
    "    arduino_data = arduino.readline()\n",
    "    if not arduino_data:\n",
    "        print('No data received from Arduino')\n",
    "        arduino.close()\n",
    "        return\n",
    "    decoded_values = str(arduino_data[0:len(arduino_data)].decode(\"utf-8\"))\n",
    "    list_values = decoded_values.split(',')\n",
    "    list_values= list_values[:-1]\n",
    "    carry_values = []\n",
    "    for item in list_values:\n",
    "        carry_values.append(float(item))\n",
    "    print(f'Collected readings from Arduino: {carry_values}')\n",
    "    arduino_data = 0\n",
    "    arduino.close()\n",
    "    print('Connection closed')\n",
    "    print('<----------------------------->')\n",
    "print('Program started')\n",
    "schedule.every(5).seconds.do(main_func)\n",
    "start_time = time.time()\n",
    "while True:\n",
    "    schedule.run_pending()\n",
    "    time.sleep(1)\n",
    "    elapsed_time = time.time() - start_time\n",
    "    if elapsed_time > 15:\n",
    "        print('graph')\n",
    "        print(f'Graph: {carry_values}')\n",
    "        break"
   ]
  }
 ],
 "metadata": {
  "language_info": {
   "name": "python"
  },
  "orig_nbformat": 4
 },
 "nbformat": 4,
 "nbformat_minor": 2
}
