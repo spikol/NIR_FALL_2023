{
 "cells": [
  {
   "cell_type": "markdown",
   "metadata": {},
   "source": [
    "### Test "
   ]
  },
  {
   "cell_type": "code",
   "execution_count": null,
   "metadata": {},
   "outputs": [],
   "source": [
    "\"\"\"\n",
    "Author: \tHWReverse\n",
    "Twitter: \t@r0_hw aka HWR0\n",
    "GitHub:\t\thttps://github.com/hwreverse/\n",
    "\n",
    "\"\"\"\n",
    "\n",
    "import serial  \n",
    "import numpy   as np\n",
    "import matplotlib.pyplot as plt  \n",
    "from drawnow import *  \n",
    "from scipy.interpolate import interp1d\n",
    " \n",
    "spectreData = serial.Serial('COM5', 115200)\n",
    "\n",
    "loop=True\n",
    "\n",
    "spectreReadings = [0.0,0.0,0.0,0.0,0.0,0.0,0.0,0.0,0.0,0.0,0.0,0.0,0.0,0.0,0.0,0.0,0.0,0.0,] \n",
    "x = np.linspace(0, 17, num=18, endpoint=True)\n",
    "defaultYLimit = 1024\n",
    "xnew = np.linspace(0, 17, num=200, endpoint=True) \n",
    "fig = plt.figure()\n",
    "plt.ion()    \n",
    "spectreList = []\n",
    "\n",
    "def handle_close(evt):\n",
    "\tspectreData.reset_input_buffer()\n",
    "\tplt.ioff()\n",
    "\tplt.close()\n",
    "\tglobal loop\n",
    "\tloop=False\n",
    "\t#print(\"close event\")\n",
    "\t#exit()\n",
    "\t#sys.exit()\n",
    " \n",
    "def doPlot():     \n",
    "\tfig.canvas.mpl_connect('close_event', handle_close) # figured out finally how to close the \"groundhog\" window\n",
    "\tplt.ylim(0,defaultYLimit)                            \n",
    "\tplt.title('Spectral Response')           \n",
    "\tplt.grid(True)                              \n",
    "\tplt.ylabel('Response ')                          \n",
    "\t#plt.plot(spectreReadings, 'ro-', label='Spectral readings')       \n",
    "\tplt.plot(x, spectreReadings, 'o', xnew, f(xnew), '-')       \n",
    "\tplt.legend(loc='upper left')                \n",
    "\t \n",
    "while (loop):            \n",
    "\twhile (spectreData.inWaiting()== 0):        \n",
    "\t\tpass            \n",
    "\tspectreString = spectreData.readline()\n",
    "\tprint(spectreString)\n",
    "\t# spectreString= spectreString.encode()\n",
    "\t\n",
    "\tspectreList = spectreString.split(\",\")\n",
    "\tif(len(spectreList)==18):\n",
    "\t\tfor num, value in enumerate(spectreList,start=0):\n",
    "\t\t\tspectreReadings[num]=float(value)\n",
    "\t\t\t\n",
    "\t\tdefaultYLimit=max(spectreReadings)*1.3 # thus, the cubic spline should remain inside the plotarea\n",
    "\t\tf=interp1d(x,spectreReadings,kind='cubic')\n",
    "\n",
    "\t\tdrawnow(doPlot)\n",
    "print(\".\")"
   ]
  }
 ],
 "metadata": {
  "kernelspec": {
   "display_name": "gpx",
   "language": "python",
   "name": "python3"
  },
  "language_info": {
   "codemirror_mode": {
    "name": "ipython",
    "version": 3
   },
   "file_extension": ".py",
   "mimetype": "text/x-python",
   "name": "python",
   "nbconvert_exporter": "python",
   "pygments_lexer": "ipython3",
   "version": "3.9.13"
  },
  "orig_nbformat": 4
 },
 "nbformat": 4,
 "nbformat_minor": 2
}
